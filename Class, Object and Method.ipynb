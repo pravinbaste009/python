{
 "cells": [
  {
   "cell_type": "markdown",
   "metadata": {},
   "source": [
    "# class , objects and method"
   ]
  },
  {
   "cell_type": "markdown",
   "metadata": {},
   "source": [
    "###  1. class"
   ]
  },
  {
   "cell_type": "raw",
   "metadata": {},
   "source": [
    "A Class is like an object constructor, or a \"blueprint\" for creating objects."
   ]
  },
  {
   "cell_type": "raw",
   "metadata": {},
   "source": [
    "How to Create a class ???**"
   ]
  },
  {
   "cell_type": "raw",
   "metadata": {},
   "source": [
    "To create a class, use the keyword class:"
   ]
  },
  {
   "cell_type": "code",
   "execution_count": 5,
   "metadata": {},
   "outputs": [],
   "source": [
    "class Teddy:\n",
    "    quantity =200"
   ]
  },
  {
   "cell_type": "raw",
   "metadata": {},
   "source": [
    "How to call the class ?"
   ]
  },
  {
   "cell_type": "code",
   "execution_count": 6,
   "metadata": {},
   "outputs": [
    {
     "name": "stdout",
     "output_type": "stream",
     "text": [
      "<class '__main__.Teddy'>\n"
     ]
    }
   ],
   "source": [
    "print(Teddy)"
   ]
  },
  {
   "cell_type": "raw",
   "metadata": {},
   "source": [
    "To access the attribute of Teddy we need to create object"
   ]
  },
  {
   "cell_type": "markdown",
   "metadata": {},
   "source": [
    "### 2. Object"
   ]
  },
  {
   "cell_type": "raw",
   "metadata": {},
   "source": [
    "How to create object..??"
   ]
  },
  {
   "cell_type": "code",
   "execution_count": 7,
   "metadata": {},
   "outputs": [],
   "source": [
    "teddy1=Teddy()"
   ]
  },
  {
   "cell_type": "raw",
   "metadata": {},
   "source": [
    "How to call the object..??"
   ]
  },
  {
   "cell_type": "code",
   "execution_count": 9,
   "metadata": {},
   "outputs": [
    {
     "name": "stdout",
     "output_type": "stream",
     "text": [
      "200\n"
     ]
    }
   ],
   "source": [
    "print(teddy1.quantity) # (object_name,attribute_name)"
   ]
  },
  {
   "cell_type": "markdown",
   "metadata": {},
   "source": [
    "### 3. Instance attribute"
   ]
  },
  {
   "cell_type": "raw",
   "metadata": {},
   "source": [
    "we have just seen there no change attribute of created class object.\n",
    "Everytime it generating same attribute object.\n",
    "To change the change the attribute in every new object we need to use instance attribute.\n",
    "Lets see how we can use the intance attribute."
   ]
  },
  {
   "cell_type": "raw",
   "metadata": {},
   "source": [
    "How to create instance object..??"
   ]
  },
  {
   "cell_type": "code",
   "execution_count": 17,
   "metadata": {},
   "outputs": [
    {
     "ename": "SyntaxError",
     "evalue": "unexpected EOF while parsing (<ipython-input-17-7581fc875ee2>, line 2)",
     "output_type": "error",
     "traceback": [
      "\u001b[1;36m  File \u001b[1;32m\"<ipython-input-17-7581fc875ee2>\"\u001b[1;36m, line \u001b[1;32m2\u001b[0m\n\u001b[1;33m    def __init__(self,):  # this is instance attribute and self is for rer. to the particular object.\u001b[0m\n\u001b[1;37m                                                                                                     ^\u001b[0m\n\u001b[1;31mSyntaxError\u001b[0m\u001b[1;31m:\u001b[0m unexpected EOF while parsing\n"
     ]
    }
   ],
   "source": [
    "class demo:\n",
    "    def __init__(self,):  # this is instance attribute and self is for rer. to the particular object."
   ]
  },
  {
   "cell_type": "code",
   "execution_count": 27,
   "metadata": {},
   "outputs": [],
   "source": [
    "class Teddy:\n",
    "    def __init__(self,name,color): \n",
    "        self.name = name\n",
    "        self.color = color\n",
    "        \n",
    "        "
   ]
  },
  {
   "cell_type": "raw",
   "metadata": {},
   "source": [
    "creating object"
   ]
  },
  {
   "cell_type": "code",
   "execution_count": 30,
   "metadata": {},
   "outputs": [
    {
     "name": "stdout",
     "output_type": "stream",
     "text": [
      "Pravin\n"
     ]
    }
   ],
   "source": [
    "teddy01=Teddy('Pravin','Red')\n",
    "print(teddy01.name)"
   ]
  },
  {
   "cell_type": "code",
   "execution_count": 31,
   "metadata": {},
   "outputs": [],
   "source": [
    "teddy02=Teddy('Preeti','Yellow')"
   ]
  },
  {
   "cell_type": "code",
   "execution_count": 36,
   "metadata": {},
   "outputs": [
    {
     "name": "stdout",
     "output_type": "stream",
     "text": [
      "Yellow\n",
      "Pravin\n",
      "Preeti\n"
     ]
    }
   ],
   "source": [
    "print(teddy02.color)\n",
    "print(teddy01.name)\n",
    "print(teddy02.name)"
   ]
  },
  {
   "cell_type": "markdown",
   "metadata": {},
   "source": [
    "## 4 Class Methods"
   ]
  },
  {
   "cell_type": "code",
   "execution_count": 37,
   "metadata": {},
   "outputs": [],
   "source": [
    "\n",
    "class Teddy: # this is class\n",
    "    def __init__(self,name,color): # this is instance attribute \n",
    "        self.name = name\n",
    "        self.color = color\n",
    "        \n",
    "    def change_name(self): # this is the methods in class\n",
    "        self.name='pravin'\n",
    "        "
   ]
  },
  {
   "cell_type": "code",
   "execution_count": 39,
   "metadata": {},
   "outputs": [
    {
     "name": "stdout",
     "output_type": "stream",
     "text": [
      "akash\n",
      "blue\n"
     ]
    }
   ],
   "source": [
    "teddy03=Teddy('akash','blue')\n",
    "print(teddy03.name)\n",
    "print(teddy03.color)"
   ]
  },
  {
   "cell_type": "raw",
   "metadata": {},
   "source": [
    "call the methods"
   ]
  },
  {
   "cell_type": "code",
   "execution_count": 41,
   "metadata": {},
   "outputs": [
    {
     "name": "stdout",
     "output_type": "stream",
     "text": [
      "pravin\n",
      "blue\n"
     ]
    }
   ],
   "source": [
    "teddy03.change_name()\n",
    "print(teddy03.name)\n",
    "print(teddy03.color)"
   ]
  },
  {
   "cell_type": "raw",
   "metadata": {},
   "source": [
    "by passing the input parameter to the class methods"
   ]
  },
  {
   "cell_type": "code",
   "execution_count": 52,
   "metadata": {},
   "outputs": [],
   "source": [
    "class Teddy: # this is class\n",
    "    def __init__(self,name,color): # this is instance attribute \n",
    "        self.name = name\n",
    "        self.color = color\n",
    "        \n",
    "    def change_name(self,name): # this is the methods in class\n",
    "        self.name=name"
   ]
  },
  {
   "cell_type": "code",
   "execution_count": 46,
   "metadata": {},
   "outputs": [
    {
     "name": "stdout",
     "output_type": "stream",
     "text": [
      "akash\n",
      "blue\n"
     ]
    }
   ],
   "source": [
    "teddy04=Teddy('akash','blue')\n",
    "print(teddy04.name)\n",
    "print(teddy04.color)"
   ]
  },
  {
   "cell_type": "code",
   "execution_count": 54,
   "metadata": {},
   "outputs": [
    {
     "name": "stdout",
     "output_type": "stream",
     "text": [
      "pravin\n",
      "blue\n"
     ]
    }
   ],
   "source": [
    "teddy04.change_name('pravin')\n",
    "print(teddy03.name)\n",
    "print(teddy03.color)"
   ]
  },
  {
   "cell_type": "code",
   "execution_count": null,
   "metadata": {},
   "outputs": [],
   "source": []
  }
 ],
 "metadata": {
  "kernelspec": {
   "display_name": "Python 3",
   "language": "python",
   "name": "python3"
  },
  "language_info": {
   "codemirror_mode": {
    "name": "ipython",
    "version": 3
   },
   "file_extension": ".py",
   "mimetype": "text/x-python",
   "name": "python",
   "nbconvert_exporter": "python",
   "pygments_lexer": "ipython3",
   "version": "3.7.4"
  }
 },
 "nbformat": 4,
 "nbformat_minor": 2
}
